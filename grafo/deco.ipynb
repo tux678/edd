{
 "cells": [
  {
   "cell_type": "code",
   "execution_count": null,
   "metadata": {},
   "outputs": [],
   "source": [
    "def deco(f):\n",
    "    print(\"saludar\")\n",
    "    def wrap(s):\n",
    "        print( f(s)+ \", mundo\")\n",
    "    return wrap\n",
    "@deco\n",
    "def saludar(saludo):\n",
    "    return saludo + \", mundo\"\n",
    "\n",
    "saludar(\"hola\")"
   ]
  }
 ],
 "metadata": {
  "language_info": {
   "name": "python"
  }
 },
 "nbformat": 4,
 "nbformat_minor": 2
}
