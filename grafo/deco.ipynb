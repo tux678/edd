{
 "cells": [
  {
   "cell_type": "code",
   "execution_count": 1,
   "metadata": {},
   "outputs": [
    {
     "name": "stdout",
     "output_type": "stream",
     "text": [
      "saludar\n",
      "hola, mundo\n"
     ]
    }
   ],
   "source": [
    "def deco(f):\n",
    "    print(\"saludar\")\n",
    "    def wrap(s):\n",
    "        msg = f(s)\n",
    "        print(msg)\n",
    "    return wrap\n",
    "@deco\n",
    "def saludar(saludo):\n",
    "    return saludo + \", mundo\"\n",
    "\n",
    "saludar(\"hola\")"
   ]
  }
 ],
 "metadata": {
  "kernelspec": {
   "display_name": "Python 3",
   "language": "python",
   "name": "python3"
  },
  "language_info": {
   "codemirror_mode": {
    "name": "ipython",
    "version": 3
   },
   "file_extension": ".py",
   "mimetype": "text/x-python",
   "name": "python",
   "nbconvert_exporter": "python",
   "pygments_lexer": "ipython3",
   "version": "3.11.5"
  }
 },
 "nbformat": 4,
 "nbformat_minor": 2
}
